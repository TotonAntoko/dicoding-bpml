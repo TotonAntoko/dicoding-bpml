{
  "nbformat": 4,
  "nbformat_minor": 0,
  "metadata": {
    "colab": {
      "name": "Submission 1 - Klasifikasi Berita.ipynb",
      "provenance": [],
      "collapsed_sections": [],
      "toc_visible": true
    },
    "kernelspec": {
      "name": "python3",
      "display_name": "Python 3"
    },
    "accelerator": "GPU"
  },
  "cells": [
    {
      "cell_type": "markdown",
      "metadata": {
        "id": "0BM0KQIdbuju",
        "colab_type": "text"
      },
      "source": [
        "# **Konfigurasi Colab dan download dataset**"
      ]
    },
    {
      "cell_type": "code",
      "metadata": {
        "id": "r9JrHOijGcpE",
        "colab_type": "code",
        "colab": {
          "base_uri": "https://localhost:8080/",
          "height": 54
        },
        "outputId": "a0d808fa-a62f-4290-aca1-bc708d84c412"
      },
      "source": [
        "from google.colab import drive\n",
        "drive.mount('/content/drive')"
      ],
      "execution_count": 42,
      "outputs": [
        {
          "output_type": "stream",
          "text": [
            "Drive already mounted at /content/drive; to attempt to forcibly remount, call drive.mount(\"/content/drive\", force_remount=True).\n"
          ],
          "name": "stdout"
        }
      ]
    },
    {
      "cell_type": "code",
      "metadata": {
        "id": "i9j5UOLAMinS",
        "colab_type": "code",
        "colab": {}
      },
      "source": [
        "import os\n",
        "os.environ['KAGGLE_CONFIG_DIR'] = \"/content/drive/My Drive/Dataset/Kaggle\""
      ],
      "execution_count": 43,
      "outputs": []
    },
    {
      "cell_type": "code",
      "metadata": {
        "id": "T1wihlX4M7Rf",
        "colab_type": "code",
        "colab": {
          "base_uri": "https://localhost:8080/",
          "height": 34
        },
        "outputId": "66d34f61-5824-4503-bc47-bc42d71ba812"
      },
      "source": [
        "#changing the working directory\n",
        "%cd /content/drive/My Drive/Dataset/Kaggle"
      ],
      "execution_count": 44,
      "outputs": [
        {
          "output_type": "stream",
          "text": [
            "/content/drive/My Drive/Dataset/Kaggle\n"
          ],
          "name": "stdout"
        }
      ]
    },
    {
      "cell_type": "code",
      "metadata": {
        "id": "Uuy2nYpuMiuX",
        "colab_type": "code",
        "colab": {
          "base_uri": "https://localhost:8080/",
          "height": 34
        },
        "outputId": "573c3ea9-acd8-4fae-93ad-4c6d2f251b1f"
      },
      "source": [
        "!kaggle datasets download -d uciml/news-aggregator-dataset"
      ],
      "execution_count": 45,
      "outputs": [
        {
          "output_type": "stream",
          "text": [
            "news-aggregator-dataset.zip: Skipping, found more recently modified local copy (use --force to force download)\n"
          ],
          "name": "stdout"
        }
      ]
    },
    {
      "cell_type": "code",
      "metadata": {
        "id": "-lkn61guS7kx",
        "colab_type": "code",
        "colab": {
          "base_uri": "https://localhost:8080/",
          "height": 71
        },
        "outputId": "3043e659-d58f-4745-ac3f-2cf93a1e06d2"
      },
      "source": [
        "!unzip news-aggregator-dataset.zip -d '/content/drive/My Drive/Dicoding/Submission_1/dataset'"
      ],
      "execution_count": 46,
      "outputs": [
        {
          "output_type": "stream",
          "text": [
            "Archive:  news-aggregator-dataset.zip\n",
            "replace /content/drive/My Drive/Dicoding/Submission_1/dataset/uci-news-aggregator.csv? [y]es, [n]o, [A]ll, [N]one, [r]ename: n\n"
          ],
          "name": "stdout"
        }
      ]
    },
    {
      "cell_type": "code",
      "metadata": {
        "id": "AVzk_IaJTnO0",
        "colab_type": "code",
        "colab": {}
      },
      "source": [
        "dataset = '/content/drive/My Drive/Dicoding/Submission_1/dataset/uci-news-aggregator.csv'"
      ],
      "execution_count": 47,
      "outputs": []
    },
    {
      "cell_type": "markdown",
      "metadata": {
        "id": "xiGUexS3dyH8",
        "colab_type": "text"
      },
      "source": [
        "# **Import Libary**"
      ]
    },
    {
      "cell_type": "code",
      "metadata": {
        "id": "hNqyIqkcN2mm",
        "colab_type": "code",
        "colab": {}
      },
      "source": [
        "import os\n",
        "import re, string\n",
        "import numpy as np\n",
        "import pandas as pd\n",
        "import seaborn as sns\n",
        "import matplotlib.pyplot as plt\n",
        "\n",
        "from sklearn.model_selection import train_test_split\n",
        "\n",
        "from keras.utils import np_utils\n",
        "from tensorflow.keras.optimizers import Adam\n",
        "from tensorflow.keras.models import Sequential\n",
        "from tensorflow.keras.initializers import Constant\n",
        "from tensorflow.keras.callbacks import EarlyStopping\n",
        "from tensorflow.keras.preprocessing.sequence import pad_sequences\n",
        "from tensorflow.keras.layers import LSTM, Dense, Embedding, SpatialDropout1D\n",
        "from tensorflow.keras.preprocessing.text import Tokenizer, text_to_word_sequence"
      ],
      "execution_count": 48,
      "outputs": []
    },
    {
      "cell_type": "markdown",
      "metadata": {
        "id": "bTA74kUn6WWD",
        "colab_type": "text"
      },
      "source": [
        "# **Define Function**"
      ]
    },
    {
      "cell_type": "code",
      "metadata": {
        "id": "1ud15Th67DPN",
        "colab_type": "code",
        "colab": {}
      },
      "source": [
        "sns.set(style=\"darkgrid\")\n",
        "\n",
        "# Plot Kategori Distribusi\n",
        "def plot_distribusi_kategori(title, df):\n",
        "  fig, ax = plt.subplots(figsize=(10, 8))\n",
        "  ax.set_title(title)\n",
        "  ax.set_xlabel('Total')\n",
        "  sns.countplot(ax=ax, y=\"CATEGORY\", \n",
        "                data=df, color='green', \n",
        "                order = df['CATEGORY'].value_counts().index, \n",
        "                saturation=0.5)"
      ],
      "execution_count": 49,
      "outputs": []
    },
    {
      "cell_type": "code",
      "metadata": {
        "id": "4pa_DsMaAKza",
        "colab_type": "code",
        "colab": {}
      },
      "source": [
        "# Plot Distribusi Kolom\n",
        "def plot_distribusi_kolom(title, df, kolom):\n",
        "  category = df[\"CATEGORY\"].unique()\n",
        "  average = []\n",
        "\n",
        "  for i in category:\n",
        "    average.append(np.mean(df[df[\"CATEGORY\"] == i][kolom].apply(lambda x : len(x.split()))))\n",
        "\n",
        "  df_average = pd.DataFrame({\n",
        "      \"CATEGORY\" : category,\n",
        "      \"average\": average\n",
        "      })\n",
        "\n",
        "  sns.set(style=\"darkgrid\")\n",
        "  fig, ax = plt.subplots(figsize=(10, 8))\n",
        "  ax.set_title(title)\n",
        "  ax.set_xlabel('Total')\n",
        "  sns.barplot(y=\"CATEGORY\", x=\"average\",\n",
        "              order = df_average.sort_values('average', ascending=False)['CATEGORY'],  \n",
        "              data=df_average, color='green', saturation=0.5)"
      ],
      "execution_count": 50,
      "outputs": []
    },
    {
      "cell_type": "code",
      "metadata": {
        "id": "AhPNfmY2mEIJ",
        "colab_type": "code",
        "colab": {}
      },
      "source": [
        ""
      ],
      "execution_count": null,
      "outputs": []
    },
    {
      "cell_type": "markdown",
      "metadata": {
        "id": "z1crawZGhTOv",
        "colab_type": "text"
      },
      "source": [
        "# **Eksplorasi Data**"
      ]
    },
    {
      "cell_type": "code",
      "metadata": {
        "id": "cnTA5YWuJZNE",
        "colab_type": "code",
        "colab": {
          "base_uri": "https://localhost:8080/",
          "height": 836
        },
        "outputId": "e686613b-4788-4e92-8772-fa07e518dbbb"
      },
      "source": [
        "data = pd.read_csv(dataset)\n",
        "display(data.head())\n",
        "print('Jumlah sampel data : {}'.format(data.shape[0]))\n",
        "print('Jumlah fitur/kolom : {}'.format(data.shape[1]))\n",
        "\n",
        "print('Jumlah null data :\\n', data.isnull().sum())"
      ],
      "execution_count": 74,
      "outputs": [
        {
          "output_type": "display_data",
          "data": {
            "text/html": [
              "<div>\n",
              "<style scoped>\n",
              "    .dataframe tbody tr th:only-of-type {\n",
              "        vertical-align: middle;\n",
              "    }\n",
              "\n",
              "    .dataframe tbody tr th {\n",
              "        vertical-align: top;\n",
              "    }\n",
              "\n",
              "    .dataframe thead th {\n",
              "        text-align: right;\n",
              "    }\n",
              "</style>\n",
              "<table border=\"1\" class=\"dataframe\">\n",
              "  <thead>\n",
              "    <tr style=\"text-align: right;\">\n",
              "      <th></th>\n",
              "      <th>ID</th>\n",
              "      <th>TITLE</th>\n",
              "      <th>URL</th>\n",
              "      <th>PUBLISHER</th>\n",
              "      <th>CATEGORY</th>\n",
              "      <th>STORY</th>\n",
              "      <th>HOSTNAME</th>\n",
              "      <th>TIMESTAMP</th>\n",
              "    </tr>\n",
              "  </thead>\n",
              "  <tbody>\n",
              "    <tr>\n",
              "      <th>0</th>\n",
              "      <td>1</td>\n",
              "      <td>Fed official says weak data caused by weather,...</td>\n",
              "      <td>http://www.latimes.com/business/money/la-fi-mo...</td>\n",
              "      <td>Los Angeles Times</td>\n",
              "      <td>b</td>\n",
              "      <td>ddUyU0VZz0BRneMioxUPQVP6sIxvM</td>\n",
              "      <td>www.latimes.com</td>\n",
              "      <td>1394470370698</td>\n",
              "    </tr>\n",
              "    <tr>\n",
              "      <th>1</th>\n",
              "      <td>2</td>\n",
              "      <td>Fed's Charles Plosser sees high bar for change...</td>\n",
              "      <td>http://www.livemint.com/Politics/H2EvwJSK2VE6O...</td>\n",
              "      <td>Livemint</td>\n",
              "      <td>b</td>\n",
              "      <td>ddUyU0VZz0BRneMioxUPQVP6sIxvM</td>\n",
              "      <td>www.livemint.com</td>\n",
              "      <td>1394470371207</td>\n",
              "    </tr>\n",
              "    <tr>\n",
              "      <th>2</th>\n",
              "      <td>3</td>\n",
              "      <td>US open: Stocks fall after Fed official hints ...</td>\n",
              "      <td>http://www.ifamagazine.com/news/us-open-stocks...</td>\n",
              "      <td>IFA Magazine</td>\n",
              "      <td>b</td>\n",
              "      <td>ddUyU0VZz0BRneMioxUPQVP6sIxvM</td>\n",
              "      <td>www.ifamagazine.com</td>\n",
              "      <td>1394470371550</td>\n",
              "    </tr>\n",
              "    <tr>\n",
              "      <th>3</th>\n",
              "      <td>4</td>\n",
              "      <td>Fed risks falling 'behind the curve', Charles ...</td>\n",
              "      <td>http://www.ifamagazine.com/news/fed-risks-fall...</td>\n",
              "      <td>IFA Magazine</td>\n",
              "      <td>b</td>\n",
              "      <td>ddUyU0VZz0BRneMioxUPQVP6sIxvM</td>\n",
              "      <td>www.ifamagazine.com</td>\n",
              "      <td>1394470371793</td>\n",
              "    </tr>\n",
              "    <tr>\n",
              "      <th>4</th>\n",
              "      <td>5</td>\n",
              "      <td>Fed's Plosser: Nasty Weather Has Curbed Job Gr...</td>\n",
              "      <td>http://www.moneynews.com/Economy/federal-reser...</td>\n",
              "      <td>Moneynews</td>\n",
              "      <td>b</td>\n",
              "      <td>ddUyU0VZz0BRneMioxUPQVP6sIxvM</td>\n",
              "      <td>www.moneynews.com</td>\n",
              "      <td>1394470372027</td>\n",
              "    </tr>\n",
              "  </tbody>\n",
              "</table>\n",
              "</div>"
            ],
            "text/plain": [
              "   ID  ...      TIMESTAMP\n",
              "0   1  ...  1394470370698\n",
              "1   2  ...  1394470371207\n",
              "2   3  ...  1394470371550\n",
              "3   4  ...  1394470371793\n",
              "4   5  ...  1394470372027\n",
              "\n",
              "[5 rows x 8 columns]"
            ]
          },
          "metadata": {
            "tags": []
          }
        },
        {
          "output_type": "stream",
          "text": [
            "Jumlah sampel data : 422419\n",
            "Jumlah fitur/kolom : 8\n",
            "Jumlah null data :\n",
            " ID           0\n",
            "TITLE        0\n",
            "URL          0\n",
            "PUBLISHER    2\n",
            "CATEGORY     0\n",
            "STORY        0\n",
            "HOSTNAME     0\n",
            "TIMESTAMP    0\n",
            "dtype: int64\n"
          ],
          "name": "stdout"
        }
      ]
    },
    {
      "cell_type": "code",
      "metadata": {
        "id": "-aib7yDOJUSR",
        "colab_type": "code",
        "colab": {
          "base_uri": "https://localhost:8080/",
          "height": 518
        },
        "outputId": "131f5e7a-5044-43d1-8dab-24501f0b30f0"
      },
      "source": [
        "plot_distribusi_kategori('Kategori Distribusi berdasarkan jumlah berita', data)"
      ],
      "execution_count": 75,
      "outputs": [
        {
          "output_type": "display_data",
          "data": {
            "image/png": "[encoded data removed]",
            "text/plain": [
              "<Figure size 720x576 with 1 Axes>"
            ]
          },
          "metadata": {
            "tags": []
          }
        }
      ]
    },
    {
      "cell_type": "markdown",
      "metadata": {
        "id": "TLUeWEA4sXZ-",
        "colab_type": "text"
      },
      "source": [
        "Ubah nama kategori"
      ]
    },
    {
      "cell_type": "code",
      "metadata": {
        "id": "ZZGT4_IfM3jr",
        "colab_type": "code",
        "colab": {}
      },
      "source": [
        "data['CATEGORY'] = data['CATEGORY'].replace({\n",
        "    'b' : 'business',\n",
        "    't' : 'science and technology',\n",
        "    'e' : 'entertainment',\n",
        "    'm' : 'health'\n",
        "})"
      ],
      "execution_count": 76,
      "outputs": []
    },
    {
      "cell_type": "code",
      "metadata": {
        "id": "gl9gxb6M6IPc",
        "colab_type": "code",
        "colab": {}
      },
      "source": [
        ""
      ],
      "execution_count": null,
      "outputs": []
    },
    {
      "cell_type": "code",
      "metadata": {
        "id": "aH1qhb_ytpsx",
        "colab_type": "code",
        "colab": {
          "base_uri": "https://localhost:8080/",
          "height": 518
        },
        "outputId": "dc6798a1-0bda-4bd6-b420-c7cbcb3a98ec"
      },
      "source": [
        "plot_distribusi_kategori('Kategori Distribusi setelah penggabungan kategori', data)"
      ],
      "execution_count": 77,
      "outputs": [
        {
          "output_type": "display_data",
          "data": {
            "image/png": "[encoded data removed]",
            "text/plain": [
              "<Figure size 720x576 with 1 Axes>"
            ]
          },
          "metadata": {
            "tags": []
          }
        }
      ]
    },
    {
      "cell_type": "code",
      "metadata": {
        "id": "fGY2tgI1qV39",
        "colab_type": "code",
        "colab": {}
      },
      "source": [
        ""
      ],
      "execution_count": null,
      "outputs": []
    },
    {
      "cell_type": "code",
      "metadata": {
        "id": "ytS7qk6Ztq03",
        "colab_type": "code",
        "colab": {
          "base_uri": "https://localhost:8080/",
          "height": 518
        },
        "outputId": "0c5dc55b-d1cf-4e84-cf7c-169f826596ff"
      },
      "source": [
        "plot_distribusi_kolom('Average Panjang Kata dalam kolom title', data, 'TITLE')"
      ],
      "execution_count": 78,
      "outputs": [
        {
          "output_type": "display_data",
          "data": {
            "image/png": "[encoded data removed]",
            "text/plain": [
              "<Figure size 720x576 with 1 Axes>"
            ]
          },
          "metadata": {
            "tags": []
          }
        }
      ]
    },
    {
      "cell_type": "code",
      "metadata": {
        "id": "yUQN423Hx-Bk",
        "colab_type": "code",
        "colab": {}
      },
      "source": [
        ""
      ],
      "execution_count": null,
      "outputs": []
    },
    {
      "cell_type": "markdown",
      "metadata": {
        "id": "jIiiwqv-IbQ0",
        "colab_type": "text"
      },
      "source": [
        "# **Preparing Data**"
      ]
    },
    {
      "cell_type": "markdown",
      "metadata": {
        "id": "w42i1gbZNvQ8",
        "colab_type": "text"
      },
      "source": [
        "Memilih jumlah maksimal kategori paling banyak"
      ]
    },
    {
      "cell_type": "code",
      "metadata": {
        "id": "IEI2Evjqwglp",
        "colab_type": "code",
        "colab": {}
      },
      "source": [
        "# Mengambil maksimum data dari setiap kategori\n",
        "num_of_categories = 35000\n",
        "\n",
        "# Mengacak datafram\n",
        "shuffled = data.reindex(np.random.permutation(data.index))\n",
        "# memecah setiap kategori sebanyak maks 45000\n",
        "business = shuffled[shuffled['CATEGORY'] == 'business'][:num_of_categories]\n",
        "science = shuffled[shuffled['CATEGORY'] == 'science and technology'][:num_of_categories]\n",
        "entertainment = shuffled[shuffled['CATEGORY'] == 'entertainment'][:num_of_categories]\n",
        "health = shuffled[shuffled['CATEGORY'] == 'health'][:num_of_categories]\n",
        "# menggabungkan semua kategori\n",
        "data = pd.concat([business,science,entertainment,health], ignore_index=True)\n",
        "# mengacak ulang datafram\n",
        "data = data.reindex(np.random.permutation(data.index))"
      ],
      "execution_count": 79,
      "outputs": []
    },
    {
      "cell_type": "code",
      "metadata": {
        "id": "DdqUhVdP4caS",
        "colab_type": "code",
        "colab": {}
      },
      "source": [
        ""
      ],
      "execution_count": null,
      "outputs": []
    },
    {
      "cell_type": "code",
      "metadata": {
        "id": "bJKAPFdAI7z0",
        "colab_type": "code",
        "colab": {}
      },
      "source": [
        "# Ubah kategori ke bentuk id atau angka\n",
        "categories = data.groupby('CATEGORY').size().index.tolist()\n",
        "category_int = {}\n",
        "int_category = {}\n",
        "for i, k in enumerate(categories):\n",
        "    category_int.update({k:i})\n",
        "    int_category.update({i:k})\n",
        "\n",
        "data['c2id'] = data['CATEGORY'].apply(lambda x: category_int[x])"
      ],
      "execution_count": 80,
      "outputs": []
    },
    {
      "cell_type": "code",
      "metadata": {
        "id": "XeqVWAJ9OXPH",
        "colab_type": "code",
        "colab": {}
      },
      "source": [
        "# panjang kata\n",
        "n_most_common_words = 8000\n",
        "\n",
        "# Tokenizing\n",
        "tokenizer = Tokenizer(num_words=n_most_common_words, filters=string.punctuation, lower=True)\n",
        "tokenizer.fit_on_texts(data['TITLE'])\n",
        "X = tokenizer.texts_to_sequences(data['TITLE'])\n",
        "data['words'] = X\n",
        "\n",
        "data['word_length'] = data.words.apply(lambda i: len(i))"
      ],
      "execution_count": 81,
      "outputs": []
    },
    {
      "cell_type": "code",
      "metadata": {
        "id": "gL22cZCcZVkd",
        "colab_type": "code",
        "colab": {
          "base_uri": "https://localhost:8080/",
          "height": 785
        },
        "outputId": "fc4dc91c-2812-4133-dfd6-54b6c5a931e5"
      },
      "source": [
        "data.head()"
      ],
      "execution_count": 82,
      "outputs": [
        {
          "output_type": "execute_result",
          "data": {
            "text/html": [
              "<div>\n",
              "<style scoped>\n",
              "    .dataframe tbody tr th:only-of-type {\n",
              "        vertical-align: middle;\n",
              "    }\n",
              "\n",
              "    .dataframe tbody tr th {\n",
              "        vertical-align: top;\n",
              "    }\n",
              "\n",
              "    .dataframe thead th {\n",
              "        text-align: right;\n",
              "    }\n",
              "</style>\n",
              "<table border=\"1\" class=\"dataframe\">\n",
              "  <thead>\n",
              "    <tr style=\"text-align: right;\">\n",
              "      <th></th>\n",
              "      <th>ID</th>\n",
              "      <th>TITLE</th>\n",
              "      <th>URL</th>\n",
              "      <th>PUBLISHER</th>\n",
              "      <th>CATEGORY</th>\n",
              "      <th>STORY</th>\n",
              "      <th>HOSTNAME</th>\n",
              "      <th>TIMESTAMP</th>\n",
              "      <th>c2id</th>\n",
              "      <th>words</th>\n",
              "      <th>word_length</th>\n",
              "    </tr>\n",
              "  </thead>\n",
              "  <tbody>\n",
              "    <tr>\n",
              "      <th>104779</th>\n",
              "      <td>265903</td>\n",
              "      <td>The 'Caged Bird' flies away: Maya Angelou dies...</td>\n",
              "      <td>http://www.allvoices.com/contributed-news/1716...</td>\n",
              "      <td>allvoices</td>\n",
              "      <td>entertainment</td>\n",
              "      <td>dXLpCHn5emGL4GM6g6reuFkybVpJM</td>\n",
              "      <td>www.allvoices.com</td>\n",
              "      <td>1401367707471</td>\n",
              "      <td>1</td>\n",
              "      <td>[4, 1236, 3005, 879, 3035, 3305, 215, 12, 5575]</td>\n",
              "      <td>9</td>\n",
              "    </tr>\n",
              "    <tr>\n",
              "      <th>98308</th>\n",
              "      <td>375846</td>\n",
              "      <td>George RR Martin: 'F*ck You' to All These Hate...</td>\n",
              "      <td>http://observer.com/2014/07/george-r-r-martin-...</td>\n",
              "      <td>New York Observer</td>\n",
              "      <td>entertainment</td>\n",
              "      <td>dE5UN5fidBqfgyMUVcQdhUTnmLK0M</td>\n",
              "      <td>observer.com</td>\n",
              "      <td>1404980650829</td>\n",
              "      <td>1</td>\n",
              "      <td>[586, 3471, 638, 1489, 39, 1, 111, 1657, 6885,...</td>\n",
              "      <td>10</td>\n",
              "    </tr>\n",
              "    <tr>\n",
              "      <th>84495</th>\n",
              "      <td>107179</td>\n",
              "      <td>Outkast Runs Out of Time at Their Coachella Re...</td>\n",
              "      <td>http://www.ryot.org/outkast-runs-time-coachell...</td>\n",
              "      <td>RYOT</td>\n",
              "      <td>entertainment</td>\n",
              "      <td>dT2dmWRF_A6k7aM1TxZxVdOnsBF9M</td>\n",
              "      <td>www.ryot.org</td>\n",
              "      <td>1397355564395</td>\n",
              "      <td>1</td>\n",
              "      <td>[4941, 4346, 48, 5, 74, 12, 223, 1183, 2669, 1...</td>\n",
              "      <td>15</td>\n",
              "    </tr>\n",
              "    <tr>\n",
              "      <th>135398</th>\n",
              "      <td>191281</td>\n",
              "      <td>Massachusetts family objects to plan for daugh...</td>\n",
              "      <td>http://www.pressherald.com/news/nationworld/Fa...</td>\n",
              "      <td>Press Herald</td>\n",
              "      <td>health</td>\n",
              "      <td>d3UMkqG23UtrGBM2kQxOIgf4FGDsM</td>\n",
              "      <td>www.pressherald.com</td>\n",
              "      <td>1399512497766</td>\n",
              "      <td>2</td>\n",
              "      <td>[2194, 403, 1682, 1, 282, 6, 1145, 2, 238, 1453]</td>\n",
              "      <td>10</td>\n",
              "    </tr>\n",
              "    <tr>\n",
              "      <th>127344</th>\n",
              "      <td>59503</td>\n",
              "      <td>CDC Reports New Cases of Heartland Virus</td>\n",
              "      <td>http://www.medpagetoday.com/InfectiousDisease/...</td>\n",
              "      <td>MedPage Today</td>\n",
              "      <td>health</td>\n",
              "      <td>dBoEV5cpvG8fCTMDkxZSGnwCIc28M</td>\n",
              "      <td>www.medpagetoday.com</td>\n",
              "      <td>1396023121568</td>\n",
              "      <td>2</td>\n",
              "      <td>[243, 198, 11, 171, 5, 73]</td>\n",
              "      <td>6</td>\n",
              "    </tr>\n",
              "  </tbody>\n",
              "</table>\n",
              "</div>"
            ],
            "text/plain": [
              "            ID  ... word_length\n",
              "104779  265903  ...           9\n",
              "98308   375846  ...          10\n",
              "84495   107179  ...          15\n",
              "135398  191281  ...          10\n",
              "127344   59503  ...           6\n",
              "\n",
              "[5 rows x 11 columns]"
            ]
          },
          "metadata": {
            "tags": []
          },
          "execution_count": 82
        }
      ]
    },
    {
      "cell_type": "markdown",
      "metadata": {
        "id": "RBlJJR1ZJJxm",
        "colab_type": "text"
      },
      "source": [
        "## **Split Data**"
      ]
    },
    {
      "cell_type": "code",
      "metadata": {
        "id": "5vmEH_I7ZePC",
        "colab_type": "code",
        "colab": {}
      },
      "source": [
        "# maks panjang padding\n",
        "max_len = 150\n",
        "features = pad_sequences(data.words, maxlen=max_len)\n",
        "labels = np_utils.to_categorical(list(data.c2id))\n",
        "data_train, data_test, label_train, label_test = train_test_split(features, labels, test_size=0.2, random_state=42)\n",
        "data_train_1, data_test_1, label_train_1, label_test_1 = train_test_split(data, labels, test_size=0.2, random_state=42)"
      ],
      "execution_count": 83,
      "outputs": []
    },
    {
      "cell_type": "code",
      "metadata": {
        "id": "SDBEU-NdvJ3d",
        "colab_type": "code",
        "colab": {}
      },
      "source": [
        ""
      ],
      "execution_count": null,
      "outputs": []
    },
    {
      "cell_type": "markdown",
      "metadata": {
        "id": "hftl1IiefAoe",
        "colab_type": "text"
      },
      "source": [
        "# **Plot Distribusi Data Training dan Testing**"
      ]
    },
    {
      "cell_type": "code",
      "metadata": {
        "id": "I72cZ9J8fkRy",
        "colab_type": "code",
        "colab": {
          "base_uri": "https://localhost:8080/",
          "height": 535
        },
        "outputId": "3b2d49cf-fddc-4920-fd94-f10c3bae59cf"
      },
      "source": [
        "fig, ax = plt.subplots(figsize=(10, 8))\n",
        "ax.set_title('title')\n",
        "ax.set_xlabel('Total')\n",
        "sns.countplot(ax=ax, y=\"CATEGORY\", \n",
        "              data=data_train_1, color='green', \n",
        "              order = data_train_1['CATEGORY'].value_counts().index, \n",
        "              saturation=0.5)\n",
        "sns.countplot(ax=ax, y=\"CATEGORY\", \n",
        "              data=data_test_1, color='red', \n",
        "              order = data_test_1['CATEGORY'].value_counts().index, \n",
        "              saturation=0.5)"
      ],
      "execution_count": 84,
      "outputs": [
        {
          "output_type": "execute_result",
          "data": {
            "text/plain": [
              "<matplotlib.axes._subplots.AxesSubplot at 0x7fc9377970f0>"
            ]
          },
          "metadata": {
            "tags": []
          },
          "execution_count": 84
        },
        {
          "output_type": "display_data",
          "data": {
            "image/png": "[encoded data removed]",
            "text/plain": [
              "<Figure size 720x576 with 1 Axes>"
            ]
          },
          "metadata": {
            "tags": []
          }
        }
      ]
    },
    {
      "cell_type": "code",
      "metadata": {
        "id": "Zi1QVLzwVIFT",
        "colab_type": "code",
        "colab": {
          "base_uri": "https://localhost:8080/",
          "height": 34
        },
        "outputId": "dee381c9-7b05-465d-9465-0dd171389a07"
      },
      "source": [
        ""
      ],
      "execution_count": null,
      "outputs": [
        {
          "output_type": "execute_result",
          "data": {
            "text/plain": [
              "(112000, 130)"
            ]
          },
          "metadata": {
            "tags": []
          },
          "execution_count": 105
        }
      ]
    },
    {
      "cell_type": "markdown",
      "metadata": {
        "id": "7p6p4DcOjHa5",
        "colab_type": "text"
      },
      "source": [
        "# **Build Model**"
      ]
    },
    {
      "cell_type": "code",
      "metadata": {
        "id": "z_gxKBhBU8Zu",
        "colab_type": "code",
        "colab": {
          "base_uri": "https://localhost:8080/",
          "height": 445
        },
        "outputId": "ce5daee7-90e1-445b-f18c-24a3d20f36c0"
      },
      "source": [
        "BATCH_SIZE = 256\n",
        "EPOCHS = 25\n",
        "emb_dim = 128\n",
        "\n",
        "model = Sequential()\n",
        "model.add(Embedding(n_most_common_words, emb_dim, input_length=data_train.shape[1]))\n",
        "model.add(SpatialDropout1D(0.4, ))\n",
        "model.add(LSTM(32, dropout=0.4, recurrent_dropout=0.4, return_sequences=True))\n",
        "model.add(LSTM(64, dropout=0.4, recurrent_dropout=0.4))\n",
        "model.add(Dense(64, activation='relu'))\n",
        "model.add(Dense(32, activation='relu'))\n",
        "model.add(Dense(4, activation='softmax'))\n",
        "\n",
        "model.compile(loss='categorical_crossentropy',\n",
        "              optimizer='adam',\n",
        "              metrics=['accuracy'])\n",
        "\n",
        "model.summary()"
      ],
      "execution_count": 85,
      "outputs": [
        {
          "output_type": "stream",
          "text": [
            "WARNING:tensorflow:Layer lstm_20 will not use cuDNN kernel since it doesn't meet the cuDNN kernel criteria. It will use generic GPU kernel as fallback when running on GPU\n",
            "WARNING:tensorflow:Layer lstm_21 will not use cuDNN kernel since it doesn't meet the cuDNN kernel criteria. It will use generic GPU kernel as fallback when running on GPU\n",
            "Model: \"sequential_9\"\n",
            "_________________________________________________________________\n",
            "Layer (type)                 Output Shape              Param #   \n",
            "=================================================================\n",
            "embedding_9 (Embedding)      (None, 150, 128)          1024000   \n",
            "_________________________________________________________________\n",
            "spatial_dropout1d_10 (Spatia (None, 150, 128)          0         \n",
            "_________________________________________________________________\n",
            "lstm_20 (LSTM)               (None, 150, 32)           20608     \n",
            "_________________________________________________________________\n",
            "lstm_21 (LSTM)               (None, 64)                24832     \n",
            "_________________________________________________________________\n",
            "dense_19 (Dense)             (None, 64)                4160      \n",
            "_________________________________________________________________\n",
            "dense_20 (Dense)             (None, 32)                2080      \n",
            "_________________________________________________________________\n",
            "dense_21 (Dense)             (None, 4)                 132       \n",
            "=================================================================\n",
            "Total params: 1,075,812\n",
            "Trainable params: 1,075,812\n",
            "Non-trainable params: 0\n",
            "_________________________________________________________________\n"
          ],
          "name": "stdout"
        }
      ]
    },
    {
      "cell_type": "code",
      "metadata": {
        "id": "O285nkoEOReQ",
        "colab_type": "code",
        "colab": {
          "base_uri": "https://localhost:8080/",
          "height": 445
        },
        "outputId": "806c5c22-072b-4266-bb91-46c2348fcf6d"
      },
      "source": [
        "history = model.fit(\n",
        "  data_train, \n",
        "  label_train, \n",
        "  batch_size=BATCH_SIZE, \n",
        "  epochs=EPOCHS, \n",
        "  validation_split=0.2,\n",
        "  callbacks=[EarlyStopping(monitor='val_loss',patience=7, min_delta=0.0001)]\n",
        ")"
      ],
      "execution_count": 86,
      "outputs": [
        {
          "output_type": "stream",
          "text": [
            "Epoch 1/25\n",
            "350/350 [==============================] - 211s 604ms/step - loss: 0.5874 - accuracy: 0.7571 - val_loss: 0.2586 - val_accuracy: 0.9093\n",
            "Epoch 2/25\n",
            "350/350 [==============================] - 209s 597ms/step - loss: 0.2365 - accuracy: 0.9184 - val_loss: 0.2303 - val_accuracy: 0.9197\n",
            "Epoch 3/25\n",
            "350/350 [==============================] - 207s 592ms/step - loss: 0.1974 - accuracy: 0.9312 - val_loss: 0.2373 - val_accuracy: 0.9200\n",
            "Epoch 4/25\n",
            "350/350 [==============================] - 208s 593ms/step - loss: 0.1791 - accuracy: 0.9370 - val_loss: 0.2264 - val_accuracy: 0.9215\n",
            "Epoch 5/25\n",
            "350/350 [==============================] - 206s 590ms/step - loss: 0.1645 - accuracy: 0.9419 - val_loss: 0.2257 - val_accuracy: 0.9227\n",
            "Epoch 6/25\n",
            "350/350 [==============================] - 206s 588ms/step - loss: 0.1553 - accuracy: 0.9446 - val_loss: 0.2295 - val_accuracy: 0.9217\n",
            "Epoch 7/25\n",
            "350/350 [==============================] - 207s 591ms/step - loss: 0.1468 - accuracy: 0.9478 - val_loss: 0.2367 - val_accuracy: 0.9214\n",
            "Epoch 8/25\n",
            "350/350 [==============================] - 208s 595ms/step - loss: 0.1410 - accuracy: 0.9489 - val_loss: 0.2422 - val_accuracy: 0.9200\n",
            "Epoch 9/25\n",
            "350/350 [==============================] - 208s 594ms/step - loss: 0.1354 - accuracy: 0.9510 - val_loss: 0.2469 - val_accuracy: 0.9217\n",
            "Epoch 10/25\n",
            "350/350 [==============================] - 207s 590ms/step - loss: 0.1299 - accuracy: 0.9528 - val_loss: 0.2526 - val_accuracy: 0.9211\n",
            "Epoch 11/25\n",
            "350/350 [==============================] - 208s 594ms/step - loss: 0.1243 - accuracy: 0.9541 - val_loss: 0.2490 - val_accuracy: 0.9199\n",
            "Epoch 12/25\n",
            "350/350 [==============================] - 208s 593ms/step - loss: 0.1203 - accuracy: 0.9554 - val_loss: 0.2578 - val_accuracy: 0.9204\n"
          ],
          "name": "stdout"
        }
      ]
    },
    {
      "cell_type": "code",
      "metadata": {
        "id": "qcvjcVxwU-gK",
        "colab_type": "code",
        "colab": {}
      },
      "source": [
        ""
      ],
      "execution_count": null,
      "outputs": []
    },
    {
      "cell_type": "markdown",
      "metadata": {
        "id": "WYcwfz4-9tlu",
        "colab_type": "text"
      },
      "source": [
        "# **Plot Model**"
      ]
    },
    {
      "cell_type": "code",
      "metadata": {
        "id": "EDWMufqRVBIZ",
        "colab_type": "code",
        "colab": {
          "base_uri": "https://localhost:8080/",
          "height": 585
        },
        "outputId": "1ba233fc-370b-4b22-de77-87479cda665f"
      },
      "source": [
        "#Summarize history for accuracy\n",
        "plt.plot(history.history['accuracy'])\n",
        "plt.plot(history.history['val_accuracy'])\n",
        "plt.title('model accuracy')\n",
        "plt.ylabel('accuracy')\n",
        "plt.xlabel('epoch')\n",
        "plt.legend(['train', 'test'], loc='upper left')\n",
        "plt.show()\n",
        "\n",
        "#Summarize history for loss\n",
        "plt.plot(history.history['loss'])\n",
        "plt.plot(history.history['val_loss'])\n",
        "plt.title('model loss')\n",
        "plt.ylabel('loss')\n",
        "plt.xlabel('epoch')\n",
        "plt.legend(['train', 'test'], loc='upper left')\n",
        "plt.show()"
      ],
      "execution_count": 87,
      "outputs": [
        {
          "output_type": "display_data",
          "data": {
            "image/png": "[encoded data removed]",
            "text/plain": [
              "<Figure size 432x288 with 1 Axes>"
            ]
          },
          "metadata": {
            "tags": []
          }
        },
        {
          "output_type": "display_data",
          "data": {
            "image/png": "[encoded data removed]",
            "text/plain": [
              "<Figure size 432x288 with 1 Axes>"
            ]
          },
          "metadata": {
            "tags": []
          }
        }
      ]
    },
    {
      "cell_type": "code",
      "metadata": {
        "id": "SM_UJ5BX9yJ2",
        "colab_type": "code",
        "colab": {}
      },
      "source": [
        ""
      ],
      "execution_count": null,
      "outputs": []
    },
    {
      "cell_type": "markdown",
      "metadata": {
        "id": "cVlPFbw4eQ68",
        "colab_type": "text"
      },
      "source": [
        "# **Evaluasi Model with unseen data**"
      ]
    },
    {
      "cell_type": "code",
      "metadata": {
        "id": "7akPN1qWeVmT",
        "colab_type": "code",
        "colab": {
          "base_uri": "https://localhost:8080/",
          "height": 85
        },
        "outputId": "d28c2001-7a71-435a-e9d2-ac9a51074611"
      },
      "source": [
        "# Evaluating the model against the test data\n",
        "results = model.evaluate(data_test, label_test, verbose=1);\n",
        "print('Uji data menggunakan data yang tidak terlihat\\n  Loss: {:0.3f}\\n  Accuracy: {:0.3f}'.format(results[0],results[1]))"
      ],
      "execution_count": 89,
      "outputs": [
        {
          "output_type": "stream",
          "text": [
            "875/875 [==============================] - 91s 104ms/step - loss: 0.2507 - accuracy: 0.9229\n",
            "Uji data menggunakan data yang tidak terlihat\n",
            "  Loss: 0.251\n",
            "  Accuracy: 0.923\n"
          ],
          "name": "stdout"
        }
      ]
    }
  ]
}